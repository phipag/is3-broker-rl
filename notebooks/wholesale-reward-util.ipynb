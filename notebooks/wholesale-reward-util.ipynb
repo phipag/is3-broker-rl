{
 "cells": [
  {
   "cell_type": "code",
   "execution_count": 1,
   "metadata": {},
   "outputs": [],
   "source": [
    "import pandas as pd\n",
    "import numpy as np\n",
    "import os\n",
    "import json\n",
    "import seaborn as sns\n",
    "import is3_broker_rl\n",
    "import matplotlib.pyplot as plt\n",
    "from pathlib import Path\n",
    "import time"
   ]
  },
  {
   "cell_type": "code",
   "execution_count": 2,
   "metadata": {},
   "outputs": [],
   "source": [
    "import requests\n"
   ]
  },
  {
   "cell_type": "code",
   "execution_count": 10,
   "metadata": {},
   "outputs": [
    {
     "data": {
      "text/plain": [
       "<Response [422]>"
      ]
     },
     "execution_count": 10,
     "metadata": {},
     "output_type": "execute_result"
    }
   ],
   "source": [
    "requests.post(\"http://localhost:8000/wholesale/history?\")"
   ]
  },
  {
   "cell_type": "code",
   "execution_count": 10,
   "metadata": {},
   "outputs": [],
   "source": [
    "ANALYSIS_DIR_NAME = Path(os.environ.get(\"DATA_DIR\", \"../data/\"))\n",
    "COMMENTS = \"\""
   ]
  },
  {
   "cell_type": "code",
   "execution_count": 11,
   "metadata": {},
   "outputs": [],
   "source": [
    "reward_prefix = \"wholesale_reward.csv\""
   ]
  },
  {
   "cell_type": "code",
   "execution_count": 12,
   "metadata": {},
   "outputs": [],
   "source": [
    "ANALYSIS_DIR = ANALYSIS_DIR_NAME"
   ]
  },
  {
   "cell_type": "code",
   "execution_count": 13,
   "metadata": {},
   "outputs": [],
   "source": [
    "df_reward = pd.read_csv(os.path.join(ANALYSIS_DIR,reward_prefix))\n"
   ]
  },
  {
   "cell_type": "code",
   "execution_count": 14,
   "metadata": {},
   "outputs": [],
   "source": [
    "def string_to_list(self, input_string: str, delimeter=\";\"):\n",
    "\n",
    "        splits = input_string.split(delimeter)\n",
    "        # self._log.info(f\"Splits {splits}\")\n",
    "        return_list = []\n",
    "        for value in splits:\n",
    "            if value != \"\":\n",
    "                return_list.append(float(value))\n",
    "\n",
    "        return return_list"
   ]
  },
  {
   "cell_type": "code",
   "execution_count": 15,
   "metadata": {},
   "outputs": [],
   "source": [
    "def calculate_customer_change(df):\n",
    "    values = ((df[\"customer_count\"] - df[\"customer_count\"].shift(24)).fillna(0)).values\n",
    "    df.loc[df.index, \"customer_change\"] = values\n",
    "    return df"
   ]
  },
  {
   "cell_type": "code",
   "execution_count": 16,
   "metadata": {},
   "outputs": [],
   "source": [
    "from typing import List\n",
    "from pydantic import BaseModel\n",
    "\n",
    "class Observation(BaseModel):\n",
    "    gameId: str\n",
    "    timeslot: int\n",
    "    p_grid_imbalance: List[float] = []\n",
    "    p_customer_prosumption: List[float] = []\n",
    "    p_wholesale_price: List[float] = []\n",
    "    p_cloud_cover: List[float] = []\n",
    "    p_temperature: List[float] = []\n",
    "    p_wind_speed: List[float] = []\n",
    "    cleared_orders_price: List[float] = []\n",
    "    cleared_orders_energy: List[float] = []\n",
    "    cleared_trade_price: List[float] = []\n",
    "    cleared_trade_energy: List[float] = []\n",
    "    customer_count: int\n",
    "    customer_count: int\n",
    "    total_prosumption: float\n",
    "    market_position: List[float] = []\n",
    "    hour_of_day: List[float] = []\n",
    "    day_of_week: List[float] = []"
   ]
  },
  {
   "cell_type": "code",
   "execution_count": 20,
   "metadata": {},
   "outputs": [
    {
     "ename": "TypeError",
     "evalue": "'int' object is not subscriptable",
     "output_type": "error",
     "traceback": [
      "\u001b[0;31m---------------------------------------------------------------------------\u001b[0m",
      "\u001b[0;31mTypeError\u001b[0m                                 Traceback (most recent call last)",
      "\u001b[1;32m/home/lorenz/is3-broker-rl/notebooks/wholesale-reward-util.ipynb Cell 9\u001b[0m in \u001b[0;36m<cell line: 2>\u001b[0;34m()\u001b[0m\n\u001b[1;32m      <a href='vscode-notebook-cell://wsl%2Bubuntu/home/lorenz/is3-broker-rl/notebooks/wholesale-reward-util.ipynb#X10sdnNjb2RlLXJlbW90ZQ%3D%3D?line=1'>2</a>\u001b[0m \u001b[39mfor\u001b[39;00m index, row \u001b[39min\u001b[39;00m df_reward\u001b[39m.\u001b[39miterrows():\n\u001b[1;32m      <a href='vscode-notebook-cell://wsl%2Bubuntu/home/lorenz/is3-broker-rl/notebooks/wholesale-reward-util.ipynb#X10sdnNjb2RlLXJlbW90ZQ%3D%3D?line=2'>3</a>\u001b[0m     obs \u001b[39m=\u001b[39m json\u001b[39m.\u001b[39mloads(row[\u001b[39m\"\u001b[39m\u001b[39mobservation\u001b[39m\u001b[39m\"\u001b[39m])\n\u001b[1;32m      <a href='vscode-notebook-cell://wsl%2Bubuntu/home/lorenz/is3-broker-rl/notebooks/wholesale-reward-util.ipynb#X10sdnNjb2RlLXJlbW90ZQ%3D%3D?line=4'>5</a>\u001b[0m     obs \u001b[39m=\u001b[39m Observation(\n\u001b[1;32m      <a href='vscode-notebook-cell://wsl%2Bubuntu/home/lorenz/is3-broker-rl/notebooks/wholesale-reward-util.ipynb#X10sdnNjb2RlLXJlbW90ZQ%3D%3D?line=5'>6</a>\u001b[0m         gameId\u001b[39m=\u001b[39mobs\u001b[39m.\u001b[39mget(\u001b[39m\"\u001b[39m\u001b[39mgameId\u001b[39m\u001b[39m\"\u001b[39m),\n\u001b[1;32m      <a href='vscode-notebook-cell://wsl%2Bubuntu/home/lorenz/is3-broker-rl/notebooks/wholesale-reward-util.ipynb#X10sdnNjb2RlLXJlbW90ZQ%3D%3D?line=6'>7</a>\u001b[0m         timeslot\u001b[39m=\u001b[39mobs\u001b[39m.\u001b[39mget(\u001b[39m\"\u001b[39m\u001b[39mtimeslot\u001b[39m\u001b[39m\"\u001b[39m),\n\u001b[1;32m      <a href='vscode-notebook-cell://wsl%2Bubuntu/home/lorenz/is3-broker-rl/notebooks/wholesale-reward-util.ipynb#X10sdnNjb2RlLXJlbW90ZQ%3D%3D?line=7'>8</a>\u001b[0m         p_grid_imbalance\u001b[39m=\u001b[39mobs\u001b[39m.\u001b[39mget(\u001b[39m\"\u001b[39m\u001b[39mp_grid_imbalance\u001b[39m\u001b[39m\"\u001b[39m),\n\u001b[1;32m      <a href='vscode-notebook-cell://wsl%2Bubuntu/home/lorenz/is3-broker-rl/notebooks/wholesale-reward-util.ipynb#X10sdnNjb2RlLXJlbW90ZQ%3D%3D?line=8'>9</a>\u001b[0m         p_customer_prosumption\u001b[39m=\u001b[39mobs\u001b[39m.\u001b[39mget(\u001b[39m\"\u001b[39m\u001b[39mp_customer_prosumption\u001b[39m\u001b[39m\"\u001b[39m),\n\u001b[1;32m     <a href='vscode-notebook-cell://wsl%2Bubuntu/home/lorenz/is3-broker-rl/notebooks/wholesale-reward-util.ipynb#X10sdnNjb2RlLXJlbW90ZQ%3D%3D?line=9'>10</a>\u001b[0m         p_wholesale_price\u001b[39m=\u001b[39mobs\u001b[39m.\u001b[39mget(\u001b[39m\"\u001b[39m\u001b[39mp_wholesale_price\u001b[39m\u001b[39m\"\u001b[39m),\n\u001b[1;32m     <a href='vscode-notebook-cell://wsl%2Bubuntu/home/lorenz/is3-broker-rl/notebooks/wholesale-reward-util.ipynb#X10sdnNjb2RlLXJlbW90ZQ%3D%3D?line=10'>11</a>\u001b[0m         p_cloud_cover\u001b[39m=\u001b[39mobs\u001b[39m.\u001b[39mget(\u001b[39m\"\u001b[39m\u001b[39mp_cloud_cover\u001b[39m\u001b[39m\"\u001b[39m),\n\u001b[1;32m     <a href='vscode-notebook-cell://wsl%2Bubuntu/home/lorenz/is3-broker-rl/notebooks/wholesale-reward-util.ipynb#X10sdnNjb2RlLXJlbW90ZQ%3D%3D?line=11'>12</a>\u001b[0m         p_temperature\u001b[39m=\u001b[39mobs\u001b[39m.\u001b[39mget(\u001b[39m\"\u001b[39m\u001b[39mp_temperature\u001b[39m\u001b[39m\"\u001b[39m),\n\u001b[1;32m     <a href='vscode-notebook-cell://wsl%2Bubuntu/home/lorenz/is3-broker-rl/notebooks/wholesale-reward-util.ipynb#X10sdnNjb2RlLXJlbW90ZQ%3D%3D?line=12'>13</a>\u001b[0m         p_wind_speed\u001b[39m=\u001b[39mobs\u001b[39m.\u001b[39mget(\u001b[39m\"\u001b[39m\u001b[39mp_wind_speed\u001b[39m\u001b[39m\"\u001b[39m),\n\u001b[1;32m     <a href='vscode-notebook-cell://wsl%2Bubuntu/home/lorenz/is3-broker-rl/notebooks/wholesale-reward-util.ipynb#X10sdnNjb2RlLXJlbW90ZQ%3D%3D?line=13'>14</a>\u001b[0m         cleared_orders_price\u001b[39m=\u001b[39mobs\u001b[39m.\u001b[39mget(\u001b[39m\"\u001b[39m\u001b[39mcleared_orders_price\u001b[39m\u001b[39m\"\u001b[39m),  \u001b[39m# Inputs empty values. These will be filled later.\u001b[39;00m\n\u001b[1;32m     <a href='vscode-notebook-cell://wsl%2Bubuntu/home/lorenz/is3-broker-rl/notebooks/wholesale-reward-util.ipynb#X10sdnNjb2RlLXJlbW90ZQ%3D%3D?line=14'>15</a>\u001b[0m         cleared_orders_energy\u001b[39m=\u001b[39mobs\u001b[39m.\u001b[39mget(\u001b[39m\"\u001b[39m\u001b[39mcleared_orders_energy\u001b[39m\u001b[39m\"\u001b[39m),  \u001b[39m# Inputs empty values. These will be filled later.\u001b[39;00m\n\u001b[1;32m     <a href='vscode-notebook-cell://wsl%2Bubuntu/home/lorenz/is3-broker-rl/notebooks/wholesale-reward-util.ipynb#X10sdnNjb2RlLXJlbW90ZQ%3D%3D?line=15'>16</a>\u001b[0m         cleared_trade_price\u001b[39m=\u001b[39mobs\u001b[39m.\u001b[39mget(\u001b[39m\"\u001b[39m\u001b[39mcleared_trade_price\u001b[39m\u001b[39m\"\u001b[39m), \u001b[39m# Inputs empty values. These will be filled later.\u001b[39;00m\n\u001b[1;32m     <a href='vscode-notebook-cell://wsl%2Bubuntu/home/lorenz/is3-broker-rl/notebooks/wholesale-reward-util.ipynb#X10sdnNjb2RlLXJlbW90ZQ%3D%3D?line=16'>17</a>\u001b[0m         cleared_trade_energy\u001b[39m=\u001b[39mobs\u001b[39m.\u001b[39mget(\u001b[39m\"\u001b[39m\u001b[39mcleared_trade_energy\u001b[39m\u001b[39m\"\u001b[39m),  \u001b[39m# Inputs empty values. These will be filled later.\u001b[39;00m\n\u001b[0;32m---> <a href='vscode-notebook-cell://wsl%2Bubuntu/home/lorenz/is3-broker-rl/notebooks/wholesale-reward-util.ipynb#X10sdnNjb2RlLXJlbW90ZQ%3D%3D?line=17'>18</a>\u001b[0m         customer_count\u001b[39m=\u001b[39mcalculate_customer_change(obs\u001b[39m.\u001b[39;49mget(\u001b[39m\"\u001b[39;49m\u001b[39mcustomer_count\u001b[39;49m\u001b[39m\"\u001b[39;49m)),\n\u001b[1;32m     <a href='vscode-notebook-cell://wsl%2Bubuntu/home/lorenz/is3-broker-rl/notebooks/wholesale-reward-util.ipynb#X10sdnNjb2RlLXJlbW90ZQ%3D%3D?line=18'>19</a>\u001b[0m         total_prosumption\u001b[39m=\u001b[39mobs\u001b[39m.\u001b[39mget(\u001b[39m\"\u001b[39m\u001b[39mtotal_prosumption\u001b[39m\u001b[39m\"\u001b[39m),\n\u001b[1;32m     <a href='vscode-notebook-cell://wsl%2Bubuntu/home/lorenz/is3-broker-rl/notebooks/wholesale-reward-util.ipynb#X10sdnNjb2RlLXJlbW90ZQ%3D%3D?line=19'>20</a>\u001b[0m         hour_of_day\u001b[39m=\u001b[39mobs\u001b[39m.\u001b[39mget(\u001b[39m\"\u001b[39m\u001b[39mhour_of_day\u001b[39m\u001b[39m\"\u001b[39m),\n\u001b[1;32m     <a href='vscode-notebook-cell://wsl%2Bubuntu/home/lorenz/is3-broker-rl/notebooks/wholesale-reward-util.ipynb#X10sdnNjb2RlLXJlbW90ZQ%3D%3D?line=20'>21</a>\u001b[0m         day_of_week\u001b[39m=\u001b[39mobs\u001b[39m.\u001b[39mget(\u001b[39m\"\u001b[39m\u001b[39mday_of_week\u001b[39m\u001b[39m\"\u001b[39m),\n\u001b[1;32m     <a href='vscode-notebook-cell://wsl%2Bubuntu/home/lorenz/is3-broker-rl/notebooks/wholesale-reward-util.ipynb#X10sdnNjb2RlLXJlbW90ZQ%3D%3D?line=21'>22</a>\u001b[0m         market_position\u001b[39m=\u001b[39mobs\u001b[39m.\u001b[39mget(\u001b[39m\"\u001b[39m\u001b[39mmarket_position\u001b[39m\u001b[39m\"\u001b[39m),\n\u001b[1;32m     <a href='vscode-notebook-cell://wsl%2Bubuntu/home/lorenz/is3-broker-rl/notebooks/wholesale-reward-util.ipynb#X10sdnNjb2RlLXJlbW90ZQ%3D%3D?line=22'>23</a>\u001b[0m     )\n\u001b[1;32m     <a href='vscode-notebook-cell://wsl%2Bubuntu/home/lorenz/is3-broker-rl/notebooks/wholesale-reward-util.ipynb#X10sdnNjb2RlLXJlbW90ZQ%3D%3D?line=23'>24</a>\u001b[0m     \u001b[39m#obs = is3_broker_rl.api.wholesale_controller._standardize_observation(obs)\u001b[39;00m\n\u001b[1;32m     <a href='vscode-notebook-cell://wsl%2Bubuntu/home/lorenz/is3-broker-rl/notebooks/wholesale-reward-util.ipynb#X10sdnNjb2RlLXJlbW90ZQ%3D%3D?line=24'>25</a>\u001b[0m     \u001b[39m#self._log.info(f\"Obs feature: {obs.to_feature_vector()}\")\u001b[39;00m\n\u001b[1;32m     <a href='vscode-notebook-cell://wsl%2Bubuntu/home/lorenz/is3-broker-rl/notebooks/wholesale-reward-util.ipynb#X10sdnNjb2RlLXJlbW90ZQ%3D%3D?line=25'>26</a>\u001b[0m     reward \u001b[39m=\u001b[39m row[\u001b[39m\"\u001b[39m\u001b[39mreward\u001b[39m\u001b[39m\"\u001b[39m]\n",
      "\u001b[1;32m/home/lorenz/is3-broker-rl/notebooks/wholesale-reward-util.ipynb Cell 9\u001b[0m in \u001b[0;36mcalculate_customer_change\u001b[0;34m(df)\u001b[0m\n\u001b[1;32m      <a href='vscode-notebook-cell://wsl%2Bubuntu/home/lorenz/is3-broker-rl/notebooks/wholesale-reward-util.ipynb#X10sdnNjb2RlLXJlbW90ZQ%3D%3D?line=0'>1</a>\u001b[0m \u001b[39mdef\u001b[39;00m \u001b[39mcalculate_customer_change\u001b[39m(df):\n\u001b[0;32m----> <a href='vscode-notebook-cell://wsl%2Bubuntu/home/lorenz/is3-broker-rl/notebooks/wholesale-reward-util.ipynb#X10sdnNjb2RlLXJlbW90ZQ%3D%3D?line=1'>2</a>\u001b[0m     values \u001b[39m=\u001b[39m ((df[\u001b[39m\"\u001b[39;49m\u001b[39mcustomer_count\u001b[39;49m\u001b[39m\"\u001b[39;49m] \u001b[39m-\u001b[39m df[\u001b[39m\"\u001b[39m\u001b[39mcustomer_count\u001b[39m\u001b[39m\"\u001b[39m]\u001b[39m.\u001b[39mshift(\u001b[39m24\u001b[39m))\u001b[39m.\u001b[39mfillna(\u001b[39m0\u001b[39m))\u001b[39m.\u001b[39mvalues\n\u001b[1;32m      <a href='vscode-notebook-cell://wsl%2Bubuntu/home/lorenz/is3-broker-rl/notebooks/wholesale-reward-util.ipynb#X10sdnNjb2RlLXJlbW90ZQ%3D%3D?line=2'>3</a>\u001b[0m     df\u001b[39m.\u001b[39mloc[df\u001b[39m.\u001b[39mindex, \u001b[39m\"\u001b[39m\u001b[39mcustomer_change\u001b[39m\u001b[39m\"\u001b[39m] \u001b[39m=\u001b[39m values\n\u001b[1;32m      <a href='vscode-notebook-cell://wsl%2Bubuntu/home/lorenz/is3-broker-rl/notebooks/wholesale-reward-util.ipynb#X10sdnNjb2RlLXJlbW90ZQ%3D%3D?line=3'>4</a>\u001b[0m     \u001b[39mreturn\u001b[39;00m df\n",
      "\u001b[0;31mTypeError\u001b[0m: 'int' object is not subscriptable"
     ]
    }
   ],
   "source": [
    "\n",
    "            \n",
    "start = time.time()\n",
    "temp_cc = 0\n",
    "for index, row in df_reward.iterrows():\n",
    "    obs = json.loads(row[\"observation\"])\n",
    "    temp_cc = obs.get(\"customer_count\")\n",
    "    obs = Observation(\n",
    "        gameId=obs.get(\"gameId\"),\n",
    "        timeslot=obs.get(\"timeslot\"),\n",
    "        p_grid_imbalance=obs.get(\"p_grid_imbalance\"),\n",
    "        p_customer_prosumption=obs.get(\"p_customer_prosumption\"),\n",
    "        p_wholesale_price=obs.get(\"p_wholesale_price\"),\n",
    "        p_cloud_cover=obs.get(\"p_cloud_cover\"),\n",
    "        p_temperature=obs.get(\"p_temperature\"),\n",
    "        p_wind_speed=obs.get(\"p_wind_speed\"),\n",
    "        cleared_orders_price=obs.get(\"cleared_orders_price\"),  # Inputs empty values. These will be filled later.\n",
    "        cleared_orders_energy=obs.get(\"cleared_orders_energy\"),  # Inputs empty values. These will be filled later.\n",
    "        cleared_trade_price=obs.get(\"cleared_trade_price\"), # Inputs empty values. These will be filled later.\n",
    "        cleared_trade_energy=obs.get(\"cleared_trade_energy\"),  # Inputs empty values. These will be filled later.\n",
    "        customer_count=temp_cc,\n",
    "        total_prosumption=obs.get(\"total_prosumption\"),\n",
    "        hour_of_day=obs.get(\"hour_of_day\"),\n",
    "        day_of_week=obs.get(\"day_of_week\"),\n",
    "        market_position=obs.get(\"market_position\"),\n",
    "    )\n",
    "    #obs = is3_broker_rl.api.wholesale_controller._standardize_observation(obs)\n",
    "    #self._log.info(f\"Obs feature: {obs.to_feature_vector()}\")\n",
    "    reward = row[\"reward\"]\n",
    "    action_str = row[\"last_action\"]\n",
    "    \n",
    "    action = string_to_list(action_str)\n",
    "    df = pd.DataFrame(\n",
    "            {\n",
    "                \"episode_id\": row.episode_id,\n",
    "                \"reward\": reward,\n",
    "                \"balancing_reward\":row.balancing_reward,\n",
    "                \"wholesale_reward\":row.wholesale_reward,\n",
    "                \"tariff_reward\":row.tariff_reward,\n",
    "                \"shaped_return\": row.shaped_return,\n",
    "                \"observation\": obs,\n",
    "                \"last_action\": row.action,\n",
    "                \"sum_mWh\": row.sum_mWh,\n",
    "            },\n",
    "            index=[0],\n",
    "        )\n",
    "    break\n",
    "        "
   ]
  },
  {
   "cell_type": "code",
   "execution_count": null,
   "metadata": {},
   "outputs": [],
   "source": [
    "df_reward"
   ]
  }
 ],
 "metadata": {
  "kernelspec": {
   "display_name": "Python 3.8.10 ('venv': venv)",
   "language": "python",
   "name": "python3"
  },
  "language_info": {
   "codemirror_mode": {
    "name": "ipython",
    "version": 3
   },
   "file_extension": ".py",
   "mimetype": "text/x-python",
   "name": "python",
   "nbconvert_exporter": "python",
   "pygments_lexer": "ipython3",
   "version": "3.8.10"
  },
  "orig_nbformat": 4,
  "vscode": {
   "interpreter": {
    "hash": "3fdbdea0314b565a8e0f25225a3d0a0d8167176014aff623c8849b19965ecdc8"
   }
  }
 },
 "nbformat": 4,
 "nbformat_minor": 2
}

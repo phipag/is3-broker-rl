{
 "cells": [
  {
   "cell_type": "code",
   "execution_count": null,
   "metadata": {
    "collapsed": false,
    "jupyter": {
     "outputs_hidden": false
    },
    "papermill": {
     "duration": 1.556668,
     "end_time": "2022-07-18T07:51:19.722857",
     "exception": false,
     "start_time": "2022-07-18T07:51:18.166189",
     "status": "completed"
    },
    "pycharm": {
     "name": "#%%\n"
    },
    "tags": []
   },
   "outputs": [],
   "source": [
    "from pathlib import Path\n",
    "\n",
    "import matplotlib.pyplot as plt\n",
    "import matplotlib_inline\n",
    "import numpy as np\n",
    "import pandas as pd\n",
    "import seaborn as sns\n",
    "\n",
    "import is3_broker_rl\n",
    "from is3_broker_rl.api import Action, Reward\n",
    "\n",
    "%matplotlib inline\n",
    "matplotlib_inline.backend_inline.set_matplotlib_formats(\"retina\")\n",
    "sns.set_style(\"whitegrid\")"
   ]
  },
  {
   "cell_type": "code",
   "execution_count": null,
   "metadata": {
    "papermill": {
     "duration": 0.071116,
     "end_time": "2022-07-18T07:51:19.802066",
     "exception": false,
     "start_time": "2022-07-18T07:51:19.730950",
     "status": "completed"
    },
    "pycharm": {
     "name": "#%%\n"
    },
    "tags": []
   },
   "outputs": [],
   "source": [
    "DATA_DIR = Path(is3_broker_rl.__file__).parent.parent / \"data\""
   ]
  },
  {
   "cell_type": "code",
   "execution_count": null,
   "metadata": {
    "collapsed": false,
    "jupyter": {
     "outputs_hidden": false
    },
    "papermill": {
     "duration": 0.013062,
     "end_time": "2022-07-18T07:51:19.821782",
     "exception": false,
     "start_time": "2022-07-18T07:51:19.808720",
     "status": "completed"
    },
    "pycharm": {
     "name": "#%%\n"
    },
    "tags": [
     "parameters"
    ]
   },
   "outputs": [],
   "source": [
    "# Papermill parameter cell\n",
    "# Name of the directory to analyse. Should contain consumption_action.csv and consumption_reward.csv.\n",
    "ANALYSIS_DIR_NAME = \"\""
   ]
  },
  {
   "cell_type": "code",
   "execution_count": null,
   "metadata": {
    "collapsed": false,
    "jupyter": {
     "outputs_hidden": false
    },
    "papermill": {
     "duration": 0.024847,
     "end_time": "2022-07-18T07:51:19.922823",
     "exception": false,
     "start_time": "2022-07-18T07:51:19.897976",
     "status": "completed"
    },
    "pycharm": {
     "name": "#%%\n"
    },
    "tags": []
   },
   "outputs": [],
   "source": [
    "ANALYSIS_DIR = DATA_DIR / ANALYSIS_DIR_NAME"
   ]
  },
  {
   "cell_type": "code",
   "execution_count": null,
   "metadata": {
    "collapsed": false,
    "jupyter": {
     "outputs_hidden": false
    },
    "papermill": {
     "duration": 0.345511,
     "end_time": "2022-07-18T07:51:20.277553",
     "exception": false,
     "start_time": "2022-07-18T07:51:19.932042",
     "status": "completed"
    },
    "pycharm": {
     "name": "#%%\n"
    },
    "tags": []
   },
   "outputs": [],
   "source": [
    "df_action = pd.read_csv(ANALYSIS_DIR / \"consumption_action.csv\")\n",
    "df_reward = pd.read_csv(ANALYSIS_DIR / \"consumption_reward.csv\")"
   ]
  },
  {
   "cell_type": "code",
   "execution_count": null,
   "metadata": {
    "collapsed": false,
    "jupyter": {
     "outputs_hidden": false
    },
    "papermill": {
     "duration": 0.010578,
     "end_time": "2022-07-18T07:51:20.296192",
     "exception": false,
     "start_time": "2022-07-18T07:51:20.285614",
     "status": "completed"
    },
    "pycharm": {
     "name": "#%%\n"
    },
    "tags": []
   },
   "outputs": [],
   "source": [
    "ACTION_VALUE_MAPPING = {a.name: a.value for a in Action}"
   ]
  },
  {
   "cell_type": "code",
   "execution_count": null,
   "metadata": {
    "collapsed": false,
    "jupyter": {
     "outputs_hidden": false
    },
    "papermill": {
     "duration": 0.052405,
     "end_time": "2022-07-18T07:51:20.352776",
     "exception": false,
     "start_time": "2022-07-18T07:51:20.300371",
     "status": "completed"
    },
    "pycharm": {
     "name": "#%%\n"
    },
    "tags": []
   },
   "outputs": [],
   "source": [
    "# Fixes the issue that the experiment scheduler always assigns the same gameId\n",
    "def write_unique_game_id(df):\n",
    "    new_game_start_indices = df[df[\"timeslot\"] < df[\"timeslot\"].shift()].index\n",
    "    if len(new_game_start_indices) > 0:\n",
    "        df.loc[: new_game_start_indices[0], \"gameId\"] = f\"game0\"\n",
    "        for i in range(len(new_game_start_indices) - 1):\n",
    "            df.loc[new_game_start_indices[i] : new_game_start_indices[i + 1], \"gameId\"] = f\"game{i + 1}\"\n",
    "        df.loc[new_game_start_indices[-1] :, \"gameId\"] = f\"game{len(new_game_start_indices)}\""
   ]
  },
  {
   "cell_type": "code",
   "execution_count": null,
   "metadata": {
    "collapsed": false,
    "jupyter": {
     "outputs_hidden": false
    },
    "papermill": {
     "duration": 0.031265,
     "end_time": "2022-07-18T07:51:20.388329",
     "exception": false,
     "start_time": "2022-07-18T07:51:20.357064",
     "status": "completed"
    },
    "pycharm": {
     "name": "#%%\n"
    },
    "tags": []
   },
   "outputs": [],
   "source": [
    "write_unique_game_id(df_reward)\n",
    "write_unique_game_id(df_action)"
   ]
  },
  {
   "cell_type": "code",
   "execution_count": null,
   "metadata": {
    "collapsed": false,
    "jupyter": {
     "outputs_hidden": false
    },
    "papermill": {
     "duration": 0.011625,
     "end_time": "2022-07-18T07:51:20.404600",
     "exception": false,
     "start_time": "2022-07-18T07:51:20.392975",
     "status": "completed"
    },
    "pycharm": {
     "name": "#%%\n"
    },
    "tags": []
   },
   "outputs": [],
   "source": [
    "def plot_action_counts(df_action):\n",
    "    fig, ax = plt.subplots(figsize=(16, 9))\n",
    "    sns.countplot(x=\"action\", data=df_action, ax=ax, order=ACTION_VALUE_MAPPING.values())\n",
    "    ax.set_xticklabels(ACTION_VALUE_MAPPING.keys())\n",
    "    ax.set_xlabel(\"Action type\")\n",
    "    ax.set_ylabel(\"Count\")\n",
    "    ax.set_title(\"Action distribution\")"
   ]
  },
  {
   "cell_type": "code",
   "execution_count": null,
   "metadata": {
    "collapsed": false,
    "jupyter": {
     "outputs_hidden": false
    },
    "papermill": {
     "duration": 0.278283,
     "end_time": "2022-07-18T07:51:20.687271",
     "exception": false,
     "start_time": "2022-07-18T07:51:20.408988",
     "status": "completed"
    },
    "pycharm": {
     "name": "#%%\n"
    },
    "tags": []
   },
   "outputs": [],
   "source": [
    "plot_action_counts(df_action)"
   ]
  },
  {
   "cell_type": "code",
   "execution_count": null,
   "metadata": {
    "collapsed": false,
    "jupyter": {
     "outputs_hidden": false
    },
    "papermill": {
     "duration": 0.013689,
     "end_time": "2022-07-18T07:51:20.705896",
     "exception": false,
     "start_time": "2022-07-18T07:51:20.692207",
     "status": "completed"
    },
    "pycharm": {
     "name": "#%%\n"
    },
    "tags": []
   },
   "outputs": [],
   "source": [
    "def plot_action_count_over_time(df_action, df_reward):\n",
    "    fig, axs = plt.subplots(figsize=(21, 14), nrows=len(ACTION_VALUE_MAPPING), sharey=True)\n",
    "    action_value_counts = (\n",
    "        df_action[[\"gameId\", \"action\"]]\n",
    "        .groupby([\"gameId\", \"action\"], sort=False)\n",
    "        .size()\n",
    "        .unstack(fill_value=0)\n",
    "        .reset_index(drop=True)\n",
    "    )\n",
    "    timeslots_per_game = df_reward.groupby(\"gameId\", sort=False).count()[\"timeslot\"].reset_index(drop=True)\n",
    "    action_per_reward = np.ceil(len(df_reward) / len(df_action))\n",
    "    action_value_fractions = action_value_counts.divide(timeslots_per_game, axis=0) * action_per_reward\n",
    "\n",
    "    for i, action_value in enumerate(ACTION_VALUE_MAPPING.values()):\n",
    "        ax = axs.flat[i]\n",
    "        sns.lineplot(data=action_value_fractions[action_value], ax=ax)\n",
    "        ax.set_title(\n",
    "            f\"Fraction of action={list(ACTION_VALUE_MAPPING.keys())[list(ACTION_VALUE_MAPPING.values()).index(action_value)]} over time for each game\"\n",
    "        )\n",
    "        ax.set_xlabel(\"Game number\")\n",
    "        ax.set_ylabel(\"Action count fraction\")\n",
    "        ax.set_ylim((0, action_value_fractions.max().max()))\n",
    "        ax.set_xticks(action_value_fractions.index)\n",
    "        ax.margins(x=0)\n",
    "    fig.tight_layout()"
   ]
  },
  {
   "cell_type": "code",
   "execution_count": null,
   "metadata": {
    "collapsed": false,
    "jupyter": {
     "outputs_hidden": false
    },
    "papermill": {
     "duration": 7.167673,
     "end_time": "2022-07-18T07:51:27.878930",
     "exception": false,
     "start_time": "2022-07-18T07:51:20.711257",
     "status": "completed"
    },
    "pycharm": {
     "name": "#%%\n"
    },
    "tags": []
   },
   "outputs": [],
   "source": [
    "plot_action_count_over_time(df_action, df_reward)"
   ]
  },
  {
   "cell_type": "code",
   "execution_count": null,
   "metadata": {},
   "outputs": [],
   "source": [
    "def timestep_reg_plot(df_reward, column, window_size=168):\n",
    "    fig, ax = plt.subplots(figsize=(16, 9))\n",
    "    sns.lineplot(data=df_reward[column].rolling(window_size).mean(), label=f\"Mean {column}\", ax=ax)\n",
    "    sns.regplot(\n",
    "        x=df_reward.index,\n",
    "        y=column,\n",
    "        data=df_reward[[column]].rolling(window_size).mean(),\n",
    "        scatter=False,\n",
    "        marker=\".\",\n",
    "        ax=ax,\n",
    "        label=\"OLS fit\",\n",
    "    )\n",
    "    ax.vlines(\n",
    "        df_reward[df_reward[\"gameId\"] != df_reward[\"gameId\"].shift()].index + window_size,\n",
    "        0,\n",
    "        1,\n",
    "        transform=ax.get_xaxis_transform(),\n",
    "        colors=\"r\",\n",
    "        alpha=0.2,\n",
    "        label=\"New game\",\n",
    "    )\n",
    "    ax.set_xlabel(\"Timeslot\")\n",
    "    ax.set_ylabel(column)\n",
    "    ax.set_title(f\"Rolling mean {column} with window size {window_size}\")\n",
    "    ax.legend()"
   ]
  },
  {
   "cell_type": "code",
   "execution_count": null,
   "metadata": {
    "collapsed": false,
    "jupyter": {
     "outputs_hidden": false
    },
    "papermill": {
     "duration": 8.806824,
     "end_time": "2022-07-18T07:51:36.712630",
     "exception": false,
     "start_time": "2022-07-18T07:51:27.905806",
     "status": "completed"
    },
    "pycharm": {
     "name": "#%%\n"
    },
    "tags": []
   },
   "outputs": [],
   "source": [
    "timestep_reg_plot(df_reward, \"consumption_profit\", window_size=3500)"
   ]
  },
  {
   "cell_type": "code",
   "execution_count": null,
   "metadata": {
    "collapsed": false,
    "jupyter": {
     "outputs_hidden": false
    },
    "papermill": {
     "duration": 7.774737,
     "end_time": "2022-07-18T07:51:44.521067",
     "exception": false,
     "start_time": "2022-07-18T07:51:36.746330",
     "status": "completed"
    },
    "pycharm": {
     "name": "#%%\n"
    },
    "tags": []
   },
   "outputs": [],
   "source": [
    "timestep_reg_plot(df_reward, \"cashPosition\", window_size=3500)"
   ]
  },
  {
   "cell_type": "code",
   "execution_count": null,
   "metadata": {
    "collapsed": false,
    "jupyter": {
     "outputs_hidden": false
    },
    "papermill": {
     "duration": 0.017354,
     "end_time": "2022-07-18T07:51:44.548451",
     "exception": false,
     "start_time": "2022-07-18T07:51:44.531097",
     "status": "completed"
    },
    "pycharm": {
     "name": "#%%\n"
    },
    "tags": []
   },
   "outputs": [],
   "source": [
    "def plot_final_cash_position(df_reward):\n",
    "    fig, ax = plt.subplots(figsize=(16, 9))\n",
    "    df_final_timeslot = df_reward[df_reward[\"gameId\"].shift(-1) != df_reward[\"gameId\"]].reset_index()\n",
    "    df_final_timeslot[\"cashPosition\"] = (\n",
    "        df_final_timeslot[\"cashPosition\"] / df_final_timeslot[\"timeslot\"].max() * df_final_timeslot[\"timeslot\"]\n",
    "    )\n",
    "    sns.lineplot(\n",
    "        x=df_final_timeslot.index, y=\"cashPosition\", data=df_final_timeslot, label=\"Final cash position\", ax=ax\n",
    "    )\n",
    "    sns.regplot(\n",
    "        x=df_final_timeslot.index,\n",
    "        y=\"cashPosition\",\n",
    "        data=df_final_timeslot,\n",
    "        scatter=False,\n",
    "        marker=\".\",\n",
    "        ax=ax,\n",
    "        label=\"OLS fit\",\n",
    "    )\n",
    "    ax.set_xlabel(\"Game\")\n",
    "    ax.set_ylabel(\"Cash position\")\n",
    "    ax.set_title(f\"Final cash position per game (adjusted for game length)\")\n",
    "    ax.set_xticks(df_final_timeslot.index)\n",
    "    ax.margins(x=0)\n",
    "    ax.legend()"
   ]
  },
  {
   "cell_type": "code",
   "execution_count": null,
   "metadata": {
    "collapsed": false,
    "jupyter": {
     "outputs_hidden": false
    },
    "papermill": {
     "duration": 1.417623,
     "end_time": "2022-07-18T07:51:45.975352",
     "exception": false,
     "start_time": "2022-07-18T07:51:44.557729",
     "status": "completed"
    },
    "pycharm": {
     "name": "#%%\n"
    },
    "tags": []
   },
   "outputs": [],
   "source": [
    "plot_final_cash_position(df_reward)"
   ]
  },
  {
   "cell_type": "code",
   "execution_count": null,
   "metadata": {},
   "outputs": [],
   "source": [
    "timestep_reg_plot(df_reward, \"capacity_costs\", window_size=3500)"
   ]
  },
  {
   "cell_type": "code",
   "execution_count": null,
   "metadata": {},
   "outputs": [],
   "source": [
    "timestep_reg_plot(df_reward, \"consumption_fees\", window_size=3500)"
   ]
  },
  {
   "cell_type": "code",
   "execution_count": null,
   "metadata": {},
   "outputs": [],
   "source": [
    "timestep_reg_plot(df_reward, \"balancing_costs\", window_size=3500)"
   ]
  },
  {
   "cell_type": "code",
   "execution_count": null,
   "metadata": {
    "collapsed": false,
    "jupyter": {
     "outputs_hidden": false
    },
    "papermill": {
     "duration": 8.734512,
     "end_time": "2022-07-18T07:51:54.753522",
     "exception": false,
     "start_time": "2022-07-18T07:51:46.019010",
     "status": "completed"
    },
    "pycharm": {
     "name": "#%%\n"
    },
    "tags": []
   },
   "outputs": [],
   "source": [
    "timestep_reg_plot(df_reward, \"reward\", window_size=3500)"
   ]
  },
  {
   "cell_type": "code",
   "execution_count": null,
   "metadata": {
    "collapsed": false,
    "jupyter": {
     "outputs_hidden": false
    },
    "papermill": {
     "duration": 0.085653,
     "end_time": "2022-07-18T07:51:54.860383",
     "exception": false,
     "start_time": "2022-07-18T07:51:54.774730",
     "status": "completed"
    },
    "pycharm": {
     "name": "#%%\n"
    },
    "tags": []
   },
   "outputs": [],
   "source": [
    "def plot_mean_episode_reward_reg(df_reward, df_action, window_size=10):\n",
    "    fig, ax = plt.subplots(figsize=(21, 11))\n",
    "    df_mean_episode_reward = df_reward.groupby(\"episode_id\", sort=False).mean().reset_index()\n",
    "    sns.lineplot(\n",
    "        x=df_mean_episode_reward.index,\n",
    "        y=\"reward\",\n",
    "        data=df_mean_episode_reward[[\"reward\"]].rolling(window_size).mean(),\n",
    "        label=\"Mean episode reward\",\n",
    "        ax=ax,\n",
    "    )\n",
    "    sns.regplot(\n",
    "        x=df_mean_episode_reward.index,\n",
    "        y=\"reward\",\n",
    "        data=df_mean_episode_reward[[\"reward\"]].rolling(window_size).mean(),\n",
    "        scatter=False,\n",
    "        marker=\".\",\n",
    "        ax=ax,\n",
    "        label=\"OLS fit\",\n",
    "    )\n",
    "    df_episode_game_id = df_reward.groupby(\"episode_id\", sort=False)[\"gameId\"].first().reset_index()\n",
    "    ax.vlines(\n",
    "        df_episode_game_id[df_episode_game_id[\"gameId\"].shift() != df_episode_game_id[\"gameId\"]].index + window_size,\n",
    "        0,\n",
    "        1,\n",
    "        transform=ax.get_xaxis_transform(),\n",
    "        colors=\"r\",\n",
    "        alpha=0.3,\n",
    "        label=\"New game\",\n",
    "    )\n",
    "    ax.set_xlabel(\"Episode\")\n",
    "    ax.set_ylabel(\"Aggregated reward\")\n",
    "    ax.legend()\n",
    "    ax.set_title(\n",
    "        f\"Mean episode reward (N_EPISODES: {df_reward['episode_id'].nunique()}, N_TIMESTEPS: {len(df_action)})\"\n",
    "    )\n",
    "    ax.margins(x=0)"
   ]
  },
  {
   "cell_type": "code",
   "execution_count": null,
   "metadata": {
    "collapsed": false,
    "jupyter": {
     "outputs_hidden": false
    },
    "papermill": {
     "duration": 0.678364,
     "end_time": "2022-07-18T07:51:55.558040",
     "exception": false,
     "start_time": "2022-07-18T07:51:54.879676",
     "status": "completed"
    },
    "pycharm": {
     "name": "#%%\n"
    },
    "tags": []
   },
   "outputs": [],
   "source": [
    "plot_mean_episode_reward_reg(df_reward, df_action, window_size=50)"
   ]
  },
  {
   "cell_type": "code",
   "execution_count": null,
   "metadata": {
    "collapsed": false,
    "jupyter": {
     "outputs_hidden": false
    },
    "papermill": {
     "duration": 0.021954,
     "end_time": "2022-07-18T07:51:55.596386",
     "exception": false,
     "start_time": "2022-07-18T07:51:55.574432",
     "status": "completed"
    },
    "pycharm": {
     "name": "#%%\n"
    },
    "tags": []
   },
   "outputs": [],
   "source": [
    "def plot_mean_reward_per_action(df_reward):\n",
    "    fig, ax = plt.subplots(figsize=(21, 11))\n",
    "    df_reward = df_reward.copy().dropna()  # Avoid overwriting original df\n",
    "    df_reward[\"last_action\"] = df_reward[\"last_action\"].astype(np.uint8)\n",
    "    mean_reward_per_action = df_reward[[\"last_action\", \"reward\"]].groupby(\"last_action\").mean()\n",
    "    sns.barplot(\n",
    "        x=mean_reward_per_action.index,\n",
    "        y=\"reward\",\n",
    "        data=mean_reward_per_action,\n",
    "        ax=ax,\n",
    "        order=ACTION_VALUE_MAPPING.values(),\n",
    "    )\n",
    "    ax.set_xticklabels(ACTION_VALUE_MAPPING.keys())\n",
    "    ax.set_xlabel(\"Action\")\n",
    "    ax.set_ylabel(\"Mean reward associated with the action\")\n",
    "    ax.set_title(f\"Mean reward per action\")"
   ]
  },
  {
   "cell_type": "code",
   "execution_count": null,
   "metadata": {
    "collapsed": false,
    "jupyter": {
     "outputs_hidden": false
    },
    "papermill": {
     "duration": 0.380669,
     "end_time": "2022-07-18T07:51:55.991696",
     "exception": false,
     "start_time": "2022-07-18T07:51:55.611027",
     "status": "completed"
    },
    "pycharm": {
     "name": "#%%\n"
    },
    "tags": []
   },
   "outputs": [],
   "source": [
    "plot_mean_reward_per_action(df_reward)"
   ]
  },
  {
   "cell_type": "code",
   "execution_count": null,
   "metadata": {
    "collapsed": false,
    "jupyter": {
     "outputs_hidden": false
    },
    "papermill": {
     "duration": 0.022998,
     "end_time": "2022-07-18T07:51:56.035737",
     "exception": false,
     "start_time": "2022-07-18T07:51:56.012739",
     "status": "completed"
    },
    "pycharm": {
     "name": "#%%\n"
    },
    "tags": []
   },
   "outputs": [],
   "source": [
    "def plot_reward_correlation_matrix(df_reward):\n",
    "    fig, ax = plt.subplots(figsize=(14, 14))\n",
    "    corr = df_reward.drop(columns=[\"timeslot\", \"gameId\", *Reward.__fields__.keys()]).corr()\n",
    "    mask = np.triu(np.ones_like(corr, dtype=bool))\n",
    "    cmap = sns.diverging_palette(230, 20, as_cmap=True)\n",
    "    sns.heatmap(corr, mask=mask, cmap=cmap, annot=True, square=True, ax=ax)\n",
    "    ax.set_title(\"Correlation of state space and reward function\")"
   ]
  },
  {
   "cell_type": "code",
   "execution_count": null,
   "metadata": {
    "collapsed": false,
    "jupyter": {
     "outputs_hidden": false
    },
    "papermill": {
     "duration": 0.836739,
     "end_time": "2022-07-18T07:51:56.889396",
     "exception": false,
     "start_time": "2022-07-18T07:51:56.052657",
     "status": "completed"
    },
    "pycharm": {
     "name": "#%%\n"
    },
    "tags": []
   },
   "outputs": [],
   "source": [
    "plot_reward_correlation_matrix(df_reward)"
   ]
  },
  {
   "cell_type": "code",
   "execution_count": null,
   "metadata": {},
   "outputs": [],
   "source": []
  }
 ],
 "metadata": {
  "kernelspec": {
   "display_name": "Python 3 (ipykernel)",
   "language": "python",
   "name": "python3"
  },
  "language_info": {
   "codemirror_mode": {
    "name": "ipython",
    "version": 3
   },
   "file_extension": ".py",
   "mimetype": "text/x-python",
   "name": "python",
   "nbconvert_exporter": "python",
   "pygments_lexer": "ipython3",
   "version": "3.9.10"
  }
 },
 "nbformat": 4,
 "nbformat_minor": 4
}

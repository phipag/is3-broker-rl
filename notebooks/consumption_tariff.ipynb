{
 "cells": [
  {
   "cell_type": "code",
   "execution_count": null,
   "metadata": {
    "papermill": {
     "duration": 1.575607,
     "end_time": "2022-08-24T05:35:22.903929",
     "exception": false,
     "start_time": "2022-08-24T05:35:21.328322",
     "status": "completed"
    },
    "pycharm": {
     "name": "#%%\n"
    },
    "tags": []
   },
   "outputs": [],
   "source": [
    "from pathlib import Path\n",
    "\n",
    "import matplotlib.pyplot as plt\n",
    "import matplotlib_inline\n",
    "import numpy as np\n",
    "import pandas as pd\n",
    "import seaborn as sns\n",
    "\n",
    "import is3_broker_rl\n",
    "from is3_broker_rl.api import TariffRateAction, Reward\n",
    "\n",
    "%matplotlib inline\n",
    "matplotlib_inline.backend_inline.set_matplotlib_formats(\"retina\")\n",
    "sns.set_style(\"whitegrid\")"
   ]
  },
  {
   "cell_type": "code",
   "execution_count": null,
   "metadata": {
    "papermill": {
     "duration": 0.010014,
     "end_time": "2022-08-24T05:35:22.919293",
     "exception": false,
     "start_time": "2022-08-24T05:35:22.909279",
     "status": "completed"
    },
    "pycharm": {
     "name": "#%%\n"
    },
    "tags": []
   },
   "outputs": [],
   "source": [
    "DATA_DIR = Path(is3_broker_rl.__file__).parent.parent / \"data\""
   ]
  },
  {
   "cell_type": "code",
   "execution_count": null,
   "metadata": {
    "collapsed": false,
    "jupyter": {
     "outputs_hidden": false
    },
    "papermill": {
     "duration": 0.010458,
     "end_time": "2022-08-24T05:35:22.934706",
     "exception": false,
     "start_time": "2022-08-24T05:35:22.924248",
     "status": "completed"
    },
    "pycharm": {
     "name": "#%%\n"
    },
    "tags": [
     "parameters"
    ]
   },
   "outputs": [],
   "source": [
    "# Papermill parameter cell\n",
    "# Name of the directory to analyse. Should contain consumption_action.csv and consumption_reward.csv.\n",
    "ANALYSIS_DIR_NAME = \"\""
   ]
  },
  {
   "cell_type": "code",
   "execution_count": null,
   "metadata": {
    "collapsed": false,
    "jupyter": {
     "outputs_hidden": false
    },
    "papermill": {
     "duration": 0.009992,
     "end_time": "2022-08-24T05:35:22.964825",
     "exception": false,
     "start_time": "2022-08-24T05:35:22.954833",
     "status": "completed"
    },
    "pycharm": {
     "name": "#%%\n"
    },
    "tags": []
   },
   "outputs": [],
   "source": [
    "ANALYSIS_DIR = DATA_DIR / ANALYSIS_DIR_NAME"
   ]
  },
  {
   "cell_type": "code",
   "execution_count": null,
   "metadata": {
    "collapsed": false,
    "jupyter": {
     "outputs_hidden": false
    },
    "papermill": {
     "duration": 0.084283,
     "end_time": "2022-08-24T05:35:23.053518",
     "exception": false,
     "start_time": "2022-08-24T05:35:22.969235",
     "status": "completed"
    },
    "pycharm": {
     "name": "#%%\n"
    },
    "tags": []
   },
   "outputs": [],
   "source": [
    "df_action = pd.read_csv(ANALYSIS_DIR / \"consumption_action.csv\")\n",
    "df_reward = pd.read_csv(ANALYSIS_DIR / \"consumption_reward.csv\")"
   ]
  },
  {
   "cell_type": "code",
   "execution_count": null,
   "metadata": {
    "collapsed": false,
    "jupyter": {
     "outputs_hidden": false
    },
    "papermill": {
     "duration": 0.010005,
     "end_time": "2022-08-24T05:35:23.068239",
     "exception": false,
     "start_time": "2022-08-24T05:35:23.058234",
     "status": "completed"
    },
    "pycharm": {
     "name": "#%%\n"
    },
    "tags": []
   },
   "outputs": [],
   "source": [
    "ACTION_VALUE_MAPPING = {a.name: a.value for a in TariffRateAction}"
   ]
  },
  {
   "cell_type": "code",
   "execution_count": null,
   "metadata": {
    "collapsed": false,
    "jupyter": {
     "outputs_hidden": false
    },
    "papermill": {
     "duration": 0.053243,
     "end_time": "2022-08-24T05:35:23.126183",
     "exception": false,
     "start_time": "2022-08-24T05:35:23.072940",
     "status": "completed"
    },
    "pycharm": {
     "name": "#%%\n"
    },
    "tags": []
   },
   "outputs": [],
   "source": [
    "# Fixes the issue that the experiment scheduler always assigns the same gameId\n",
    "def write_unique_game_id(df):\n",
    "    new_game_start_indices = df[df[\"timeslot\"] < df[\"timeslot\"].shift()].index\n",
    "    if len(new_game_start_indices) > 0:\n",
    "        df.loc[: new_game_start_indices[0], \"gameId\"] = f\"game0\"\n",
    "        for i in range(len(new_game_start_indices) - 1):\n",
    "            df.loc[new_game_start_indices[i] : new_game_start_indices[i + 1], \"gameId\"] = f\"game{i + 1}\"\n",
    "        df.loc[new_game_start_indices[-1] :, \"gameId\"] = f\"game{len(new_game_start_indices)}\""
   ]
  },
  {
   "cell_type": "code",
   "execution_count": null,
   "metadata": {
    "collapsed": false,
    "jupyter": {
     "outputs_hidden": false
    },
    "papermill": {
     "duration": 0.014721,
     "end_time": "2022-08-24T05:35:23.145353",
     "exception": false,
     "start_time": "2022-08-24T05:35:23.130632",
     "status": "completed"
    },
    "pycharm": {
     "name": "#%%\n"
    },
    "tags": []
   },
   "outputs": [],
   "source": [
    "write_unique_game_id(df_reward)\n",
    "write_unique_game_id(df_action)"
   ]
  },
  {
   "cell_type": "code",
   "execution_count": null,
   "metadata": {
    "collapsed": false,
    "jupyter": {
     "outputs_hidden": false
    },
    "papermill": {
     "duration": 0.011871,
     "end_time": "2022-08-24T05:35:23.161738",
     "exception": false,
     "start_time": "2022-08-24T05:35:23.149867",
     "status": "completed"
    },
    "pycharm": {
     "name": "#%%\n"
    },
    "tags": []
   },
   "outputs": [],
   "source": [
    "def plot_action_counts(df_action):\n",
    "    fig, (ax1, ax2) = plt.subplots(nrows=1, ncols=2, figsize=(21, 7))\n",
    "    sns.countplot(x=\"tariff_rate_action\", data=df_action.iloc[:500], ax=ax1, order=ACTION_VALUE_MAPPING.values())\n",
    "    ax1.set_xticklabels(ACTION_VALUE_MAPPING.keys())\n",
    "    ax1.set_xlabel(\"Action type\")\n",
    "    ax1.set_ylabel(\"Count\")\n",
    "    ax1.set_title(\"Action distribution of the first 500 actions (before learning)\")\n",
    "    sns.countplot(x=\"tariff_rate_action\", data=df_action.iloc[-500:], ax=ax2, order=ACTION_VALUE_MAPPING.values())\n",
    "    ax2.set_xticklabels(ACTION_VALUE_MAPPING.keys())\n",
    "    ax2.set_xlabel(\"Action type\")\n",
    "    ax2.set_ylabel(\"Count\")\n",
    "    ax2.set_title(\"Action distribution of the last 500 actions (during and after learning)\")"
   ]
  },
  {
   "cell_type": "code",
   "execution_count": null,
   "metadata": {
    "collapsed": false,
    "jupyter": {
     "outputs_hidden": false
    },
    "papermill": {
     "duration": 1.760589,
     "end_time": "2022-08-24T05:35:24.927203",
     "exception": true,
     "start_time": "2022-08-24T05:35:23.166614",
     "status": "failed"
    },
    "pycharm": {
     "name": "#%%\n"
    },
    "tags": []
   },
   "outputs": [],
   "source": [
    "plot_action_counts(df_action)"
   ]
  },
  {
   "cell_type": "code",
   "execution_count": null,
   "metadata": {
    "papermill": {
     "duration": null,
     "end_time": null,
     "exception": null,
     "start_time": null,
     "status": "pending"
    },
    "tags": []
   },
   "outputs": [],
   "source": [
    "def plot_action_counts_within_game(df_action):\n",
    "    fig, (ax1, ax2) = plt.subplots(nrows=1, ncols=2, figsize=(21, 7))\n",
    "\n",
    "    def draw_plot(df, title, ax):\n",
    "        sns.scatterplot(\n",
    "            x=\"timeslot\",\n",
    "            y=\"tariff_rate_action\",\n",
    "            data=df,\n",
    "            ax=ax,\n",
    "            hue=\"ppf_action\",\n",
    "            palette=\"rocket_r\",\n",
    "            s=75,\n",
    "        )\n",
    "        ax.set_ylabel(None)\n",
    "        ax.set_yticks(list(reversed(ACTION_VALUE_MAPPING.values())))\n",
    "        ax.set_yticklabels(reversed(ACTION_VALUE_MAPPING.keys()))\n",
    "        ax.set_title(title)\n",
    "        ax.legend(title=\"PPF action\")\n",
    "\n",
    "    draw_plot(\n",
    "        df_action[df_action[\"gameId\"] == df_action.iloc[0][\"gameId\"]],\n",
    "        \"Actions within the first game (before learning)\",\n",
    "        ax1,\n",
    "    )\n",
    "    draw_plot(\n",
    "        df_action[df_action[\"gameId\"] == df_action.iloc[-1][\"gameId\"]],\n",
    "        \"Actions within the last game (after learning)\",\n",
    "        ax2,\n",
    "    )"
   ]
  },
  {
   "cell_type": "code",
   "execution_count": null,
   "metadata": {
    "papermill": {
     "duration": null,
     "end_time": null,
     "exception": null,
     "start_time": null,
     "status": "pending"
    },
    "tags": []
   },
   "outputs": [],
   "source": [
    "plot_action_counts_within_game(df_action)"
   ]
  },
  {
   "cell_type": "code",
   "execution_count": null,
   "metadata": {},
   "outputs": [],
   "source": [
    "def plot_ppf_histogram(df_action):\n",
    "    fig, (ax1, ax2) = plt.subplots(nrows=1, ncols=2, figsize=(21, 7))\n",
    "\n",
    "    def draw_plot(df, title, ax):\n",
    "        sns.histplot(data=df, ax=ax, bins=14)\n",
    "        ax.set_xlabel(\"PPF action\")\n",
    "        ax.set_title(title)\n",
    "        ax.set_xticks(range(14))\n",
    "\n",
    "    draw_plot(\n",
    "        df_action[df_action[\"tariff_rate_action\"] != TariffRateAction.NO_OP].iloc[:500][\"ppf_action\"],\n",
    "        \"PPF action distribution of the first 500 actions (before learning)\",\n",
    "        ax1,\n",
    "    )\n",
    "    draw_plot(\n",
    "        df_action[df_action[\"tariff_rate_action\"] != TariffRateAction.NO_OP].iloc[-500:][\"ppf_action\"],\n",
    "        \"PPF action distribution of the last 500 actions (after learning)\",\n",
    "        ax2,\n",
    "    )"
   ]
  },
  {
   "cell_type": "code",
   "execution_count": null,
   "metadata": {},
   "outputs": [],
   "source": [
    "plot_ppf_histogram(df_action)"
   ]
  },
  {
   "cell_type": "code",
   "execution_count": null,
   "metadata": {},
   "outputs": [],
   "source": [
    "def plot_joint_distribution(df_action):\n",
    "    def draw_plot(df, title):\n",
    "        g = sns.jointplot(\n",
    "            x=\"ppf_action\",\n",
    "            y=\"tariff_rate_action\",\n",
    "            data=df,\n",
    "            kind=\"hex\",\n",
    "        )\n",
    "        g.ax_joint.set_xlabel(\"PPF action\")\n",
    "        g.ax_joint.set_ylabel(None)\n",
    "        g.ax_joint.set_yticks(list(reversed(ACTION_VALUE_MAPPING.values())))\n",
    "        g.ax_joint.set_yticklabels(reversed(ACTION_VALUE_MAPPING.keys()))\n",
    "        g.figure.suptitle(title)\n",
    "        g.figure.tight_layout()\n",
    "\n",
    "    draw_plot(\n",
    "        df_action[df_action[\"tariff_rate_action\"] != TariffRateAction.NO_OP].iloc[:500],\n",
    "        \"Joint PPF action and tariff rate action distribution for the first 500 actions (before learning)\",\n",
    "    )\n",
    "    draw_plot(\n",
    "        df_action[df_action[\"tariff_rate_action\"] != TariffRateAction.NO_OP].iloc[-500:],\n",
    "        \"Joint PPF action and tariff rate action distribution for the last 500 actions (after learning)\",\n",
    "    )"
   ]
  },
  {
   "cell_type": "code",
   "execution_count": null,
   "metadata": {},
   "outputs": [],
   "source": [
    "plot_joint_distribution(df_action)"
   ]
  },
  {
   "cell_type": "code",
   "execution_count": null,
   "metadata": {
    "collapsed": false,
    "jupyter": {
     "outputs_hidden": false
    },
    "papermill": {
     "duration": null,
     "end_time": null,
     "exception": null,
     "start_time": null,
     "status": "pending"
    },
    "pycharm": {
     "name": "#%%\n"
    },
    "tags": []
   },
   "outputs": [],
   "source": [
    "def plot_action_count_over_time(df_action, df_reward):\n",
    "    fig, axs = plt.subplots(figsize=(21, 14), nrows=len(ACTION_VALUE_MAPPING), sharey=True)\n",
    "    action_value_counts = (\n",
    "        df_action[[\"gameId\", \"tariff_rate_action\"]]\n",
    "        .groupby([\"gameId\", \"tariff_rate_action\"], sort=False)\n",
    "        .size()\n",
    "        .unstack(fill_value=0)\n",
    "        .reset_index(drop=True)\n",
    "    )\n",
    "    timeslots_per_game = df_reward.groupby(\"gameId\", sort=False).count()[\"timeslot\"].reset_index(drop=True)\n",
    "    action_per_reward = np.ceil(len(df_reward) / len(df_action))\n",
    "    action_value_fractions = action_value_counts.divide(timeslots_per_game, axis=0) * action_per_reward\n",
    "\n",
    "    for i, action_value in enumerate(ACTION_VALUE_MAPPING.values()):\n",
    "        ax = axs.flat[i]\n",
    "        sns.lineplot(data=action_value_fractions[action_value], ax=ax)\n",
    "        ax.set_title(\n",
    "            f\"Fraction of action={list(ACTION_VALUE_MAPPING.keys())[list(ACTION_VALUE_MAPPING.values()).index(action_value)]} over time for each game\"\n",
    "        )\n",
    "        ax.set_xlabel(\"Game number\")\n",
    "        ax.set_ylabel(\"Action count fraction\")\n",
    "        ax.set_ylim((0, action_value_fractions.max().max()))\n",
    "        ax.set_xticks(action_value_fractions.index)\n",
    "        ax.margins(x=0)\n",
    "    fig.tight_layout()"
   ]
  },
  {
   "cell_type": "code",
   "execution_count": null,
   "metadata": {
    "collapsed": false,
    "jupyter": {
     "outputs_hidden": false
    },
    "papermill": {
     "duration": null,
     "end_time": null,
     "exception": null,
     "start_time": null,
     "status": "pending"
    },
    "pycharm": {
     "name": "#%%\n"
    },
    "tags": []
   },
   "outputs": [],
   "source": [
    "plot_action_count_over_time(df_action, df_reward)"
   ]
  },
  {
   "cell_type": "code",
   "execution_count": null,
   "metadata": {
    "papermill": {
     "duration": null,
     "end_time": null,
     "exception": null,
     "start_time": null,
     "status": "pending"
    },
    "tags": []
   },
   "outputs": [],
   "source": [
    "def timestep_reg_plot(df_reward, column, window_size=168):\n",
    "    fig, ax = plt.subplots(figsize=(16, 9))\n",
    "    sns.lineplot(data=df_reward[column].rolling(window_size).mean(), label=f\"Mean {column}\", ax=ax)\n",
    "    sns.regplot(\n",
    "        x=df_reward.index,\n",
    "        y=column,\n",
    "        data=df_reward[[column]].rolling(window_size).mean(),\n",
    "        scatter=False,\n",
    "        marker=\".\",\n",
    "        ax=ax,\n",
    "        label=\"OLS fit\",\n",
    "    )\n",
    "    ax.vlines(\n",
    "        df_reward[df_reward[\"gameId\"] != df_reward[\"gameId\"].shift()].index + window_size,\n",
    "        0,\n",
    "        1,\n",
    "        transform=ax.get_xaxis_transform(),\n",
    "        colors=\"r\",\n",
    "        alpha=0.2,\n",
    "        label=\"New game\",\n",
    "    )\n",
    "    ax.set_xlabel(\"Timeslot\")\n",
    "    ax.set_ylabel(column)\n",
    "    ax.set_title(f\"Rolling mean {column} with window size {window_size}\")\n",
    "    ax.legend()"
   ]
  },
  {
   "cell_type": "code",
   "execution_count": null,
   "metadata": {
    "collapsed": false,
    "jupyter": {
     "outputs_hidden": false
    },
    "papermill": {
     "duration": null,
     "end_time": null,
     "exception": null,
     "start_time": null,
     "status": "pending"
    },
    "pycharm": {
     "name": "#%%\n"
    },
    "tags": []
   },
   "outputs": [],
   "source": [
    "timestep_reg_plot(df_reward, \"consumption_profit\", window_size=3500)"
   ]
  },
  {
   "cell_type": "code",
   "execution_count": null,
   "metadata": {
    "collapsed": false,
    "jupyter": {
     "outputs_hidden": false
    },
    "papermill": {
     "duration": null,
     "end_time": null,
     "exception": null,
     "start_time": null,
     "status": "pending"
    },
    "pycharm": {
     "name": "#%%\n"
    },
    "tags": []
   },
   "outputs": [],
   "source": [
    "timestep_reg_plot(df_reward, \"cashPosition\", window_size=3500)"
   ]
  },
  {
   "cell_type": "code",
   "execution_count": null,
   "metadata": {
    "collapsed": false,
    "jupyter": {
     "outputs_hidden": false
    },
    "papermill": {
     "duration": null,
     "end_time": null,
     "exception": null,
     "start_time": null,
     "status": "pending"
    },
    "pycharm": {
     "name": "#%%\n"
    },
    "tags": []
   },
   "outputs": [],
   "source": [
    "def plot_final_cash_position(df_reward):\n",
    "    fig, ax = plt.subplots(figsize=(16, 9))\n",
    "    df_final_timeslot = df_reward[df_reward[\"gameId\"].shift(-1) != df_reward[\"gameId\"]].reset_index()\n",
    "    df_final_timeslot[\"cashPosition\"] = (\n",
    "        df_final_timeslot[\"cashPosition\"] / df_final_timeslot[\"timeslot\"].max() * df_final_timeslot[\"timeslot\"]\n",
    "    )\n",
    "    sns.lineplot(\n",
    "        x=df_final_timeslot.index, y=\"cashPosition\", data=df_final_timeslot, label=\"Final cash position\", ax=ax\n",
    "    )\n",
    "    sns.regplot(\n",
    "        x=df_final_timeslot.index,\n",
    "        y=\"cashPosition\",\n",
    "        data=df_final_timeslot,\n",
    "        scatter=False,\n",
    "        marker=\".\",\n",
    "        ax=ax,\n",
    "        label=\"OLS fit\",\n",
    "    )\n",
    "    ax.set_xlabel(\"Game\")\n",
    "    ax.set_ylabel(\"Cash position\")\n",
    "    ax.set_title(f\"Final cash position per game (adjusted for game length)\")\n",
    "    ax.set_xticks(df_final_timeslot.index)\n",
    "    ax.margins(x=0)\n",
    "    ax.legend()"
   ]
  },
  {
   "cell_type": "code",
   "execution_count": null,
   "metadata": {
    "collapsed": false,
    "jupyter": {
     "outputs_hidden": false
    },
    "papermill": {
     "duration": null,
     "end_time": null,
     "exception": null,
     "start_time": null,
     "status": "pending"
    },
    "pycharm": {
     "name": "#%%\n"
    },
    "tags": []
   },
   "outputs": [],
   "source": [
    "plot_final_cash_position(df_reward)"
   ]
  },
  {
   "cell_type": "code",
   "execution_count": null,
   "metadata": {
    "papermill": {
     "duration": null,
     "end_time": null,
     "exception": null,
     "start_time": null,
     "status": "pending"
    },
    "tags": []
   },
   "outputs": [],
   "source": [
    "timestep_reg_plot(df_reward, \"capacity_costs\", window_size=3500)"
   ]
  },
  {
   "cell_type": "code",
   "execution_count": null,
   "metadata": {
    "papermill": {
     "duration": null,
     "end_time": null,
     "exception": null,
     "start_time": null,
     "status": "pending"
    },
    "tags": []
   },
   "outputs": [],
   "source": [
    "timestep_reg_plot(df_reward, \"consumption_fees\", window_size=3500)"
   ]
  },
  {
   "cell_type": "code",
   "execution_count": null,
   "metadata": {
    "papermill": {
     "duration": null,
     "end_time": null,
     "exception": null,
     "start_time": null,
     "status": "pending"
    },
    "tags": []
   },
   "outputs": [],
   "source": [
    "timestep_reg_plot(df_reward, \"balancing_costs\", window_size=3500)"
   ]
  },
  {
   "cell_type": "code",
   "execution_count": null,
   "metadata": {
    "collapsed": false,
    "jupyter": {
     "outputs_hidden": false
    },
    "papermill": {
     "duration": null,
     "end_time": null,
     "exception": null,
     "start_time": null,
     "status": "pending"
    },
    "pycharm": {
     "name": "#%%\n"
    },
    "tags": []
   },
   "outputs": [],
   "source": [
    "timestep_reg_plot(df_reward, \"reward\", window_size=3500)"
   ]
  },
  {
   "cell_type": "code",
   "execution_count": null,
   "metadata": {
    "collapsed": false,
    "jupyter": {
     "outputs_hidden": false
    },
    "papermill": {
     "duration": null,
     "end_time": null,
     "exception": null,
     "start_time": null,
     "status": "pending"
    },
    "pycharm": {
     "name": "#%%\n"
    },
    "tags": []
   },
   "outputs": [],
   "source": [
    "def plot_mean_episode_reward_reg(df_reward, df_action, window_size=10):\n",
    "    fig, ax = plt.subplots(figsize=(21, 11))\n",
    "    df_mean_episode_reward = df_reward.groupby(\"episode_id\", sort=False).mean().reset_index()\n",
    "    sns.lineplot(\n",
    "        x=df_mean_episode_reward.index,\n",
    "        y=\"reward\",\n",
    "        data=df_mean_episode_reward[[\"reward\"]].rolling(window_size).mean(),\n",
    "        label=\"Mean episode reward\",\n",
    "        ax=ax,\n",
    "    )\n",
    "    sns.regplot(\n",
    "        x=df_mean_episode_reward.index,\n",
    "        y=\"reward\",\n",
    "        data=df_mean_episode_reward[[\"reward\"]].rolling(window_size).mean(),\n",
    "        scatter=False,\n",
    "        marker=\".\",\n",
    "        ax=ax,\n",
    "        label=\"OLS fit\",\n",
    "    )\n",
    "    df_episode_game_id = df_reward.groupby(\"episode_id\", sort=False)[\"gameId\"].first().reset_index()\n",
    "    ax.vlines(\n",
    "        df_episode_game_id[df_episode_game_id[\"gameId\"].shift() != df_episode_game_id[\"gameId\"]].index + window_size,\n",
    "        0,\n",
    "        1,\n",
    "        transform=ax.get_xaxis_transform(),\n",
    "        colors=\"r\",\n",
    "        alpha=0.3,\n",
    "        label=\"New game\",\n",
    "    )\n",
    "    ax.set_xlabel(\"Episode\")\n",
    "    ax.set_ylabel(\"Aggregated reward\")\n",
    "    ax.legend()\n",
    "    ax.set_title(\n",
    "        f\"Mean episode reward (N_EPISODES: {df_reward['episode_id'].nunique()}, N_TIMESTEPS: {len(df_action)})\"\n",
    "    )\n",
    "    ax.margins(x=0)"
   ]
  },
  {
   "cell_type": "code",
   "execution_count": null,
   "metadata": {
    "collapsed": false,
    "jupyter": {
     "outputs_hidden": false
    },
    "papermill": {
     "duration": null,
     "end_time": null,
     "exception": null,
     "start_time": null,
     "status": "pending"
    },
    "pycharm": {
     "name": "#%%\n"
    },
    "tags": []
   },
   "outputs": [],
   "source": [
    "plot_mean_episode_reward_reg(df_reward, df_action, window_size=50)"
   ]
  },
  {
   "cell_type": "code",
   "execution_count": null,
   "metadata": {
    "collapsed": false,
    "jupyter": {
     "outputs_hidden": false
    },
    "papermill": {
     "duration": null,
     "end_time": null,
     "exception": null,
     "start_time": null,
     "status": "pending"
    },
    "pycharm": {
     "name": "#%%\n"
    },
    "tags": []
   },
   "outputs": [],
   "source": [
    "def plot_mean_reward_per_action(df_reward):\n",
    "    fig, ax = plt.subplots(figsize=(21, 11))\n",
    "    df_reward = df_reward.copy().dropna()  # Avoid overwriting original df\n",
    "    df_reward[\"last_tariff_rate_action\"] = df_reward[\"last_tariff_rate_action\"].astype(np.uint8)\n",
    "    mean_reward_per_action = df_reward[[\"last_tariff_rate_action\", \"reward\"]].groupby(\"last_tariff_rate_action\").mean()\n",
    "    sns.barplot(\n",
    "        x=mean_reward_per_action.index,\n",
    "        y=\"reward\",\n",
    "        data=mean_reward_per_action,\n",
    "        ax=ax,\n",
    "        order=ACTION_VALUE_MAPPING.values(),\n",
    "    )\n",
    "    ax.set_xticklabels(ACTION_VALUE_MAPPING.keys())\n",
    "    ax.set_xlabel(\"Action\")\n",
    "    ax.set_ylabel(\"Mean reward associated with the action\")\n",
    "    ax.set_title(f\"Mean reward per action\")"
   ]
  },
  {
   "cell_type": "code",
   "execution_count": null,
   "metadata": {
    "collapsed": false,
    "jupyter": {
     "outputs_hidden": false
    },
    "papermill": {
     "duration": null,
     "end_time": null,
     "exception": null,
     "start_time": null,
     "status": "pending"
    },
    "pycharm": {
     "name": "#%%\n"
    },
    "tags": []
   },
   "outputs": [],
   "source": [
    "plot_mean_reward_per_action(df_reward)"
   ]
  },
  {
   "cell_type": "code",
   "execution_count": null,
   "metadata": {
    "collapsed": false,
    "jupyter": {
     "outputs_hidden": false
    },
    "papermill": {
     "duration": null,
     "end_time": null,
     "exception": null,
     "start_time": null,
     "status": "pending"
    },
    "pycharm": {
     "name": "#%%\n"
    },
    "tags": []
   },
   "outputs": [],
   "source": [
    "def plot_reward_correlation_matrix(df_reward):\n",
    "    fig, ax = plt.subplots(figsize=(14, 14))\n",
    "    corr = df_reward.drop(columns=[\"timeslot\", \"gameId\", *Reward.__fields__.keys()]).corr()\n",
    "    mask = np.triu(np.ones_like(corr, dtype=bool))\n",
    "    cmap = sns.diverging_palette(230, 20, as_cmap=True)\n",
    "    sns.heatmap(corr, mask=mask, cmap=cmap, annot=True, square=True, ax=ax)\n",
    "    ax.set_title(\"Correlation of state space and reward function\")"
   ]
  },
  {
   "cell_type": "code",
   "execution_count": null,
   "metadata": {
    "collapsed": false,
    "jupyter": {
     "outputs_hidden": false
    },
    "papermill": {
     "duration": null,
     "end_time": null,
     "exception": null,
     "start_time": null,
     "status": "pending"
    },
    "pycharm": {
     "name": "#%%\n"
    },
    "tags": []
   },
   "outputs": [],
   "source": [
    "plot_reward_correlation_matrix(df_reward)"
   ]
  },
  {
   "cell_type": "code",
   "execution_count": null,
   "metadata": {},
   "outputs": [],
   "source": []
  }
 ],
 "metadata": {
  "kernelspec": {
   "display_name": "Python 3 (ipykernel)",
   "language": "python",
   "name": "python3"
  },
  "language_info": {
   "codemirror_mode": {
    "name": "ipython",
    "version": 3
   },
   "file_extension": ".py",
   "mimetype": "text/x-python",
   "name": "python",
   "nbconvert_exporter": "python",
   "pygments_lexer": "ipython3",
   "version": "3.9.10"
  }
 },
 "nbformat": 4,
 "nbformat_minor": 4
}
